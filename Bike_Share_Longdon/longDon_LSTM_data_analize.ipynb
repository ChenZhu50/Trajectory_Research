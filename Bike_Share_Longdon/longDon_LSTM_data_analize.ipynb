{
 "cells": [
  {
   "cell_type": "markdown",
   "metadata": {},
   "source": [
    "## Import Library"
   ]
  },
  {
   "cell_type": "code",
   "execution_count": 1,
   "metadata": {},
   "outputs": [],
   "source": [
    "import pandas as pd\n",
    "import numpy as np\n",
    "\n",
    "# seaborn可视化\n",
    "import seaborn as sns\n",
    "import matplotlib.pyplot as plt\n",
    "sns.set(context=\"notebook\", style=\"darkgrid\", \n",
    "        palette=\"deep\", font=\"sans-serif\", \n",
    "        font_scale=1, color_codes=True)\n",
    "\n",
    "# 忽略警告\n",
    "import warnings\n",
    "warnings.filterwarnings(\"ignore\")"
   ]
  },
  {
   "cell_type": "markdown",
   "metadata": {},
   "source": [
    "## Read the Data"
   ]
  },
  {
   "cell_type": "code",
   "execution_count": 2,
   "metadata": {},
   "outputs": [
    {
     "data": {
      "text/html": [
       "<div>\n",
       "<style scoped>\n",
       "    .dataframe tbody tr th:only-of-type {\n",
       "        vertical-align: middle;\n",
       "    }\n",
       "\n",
       "    .dataframe tbody tr th {\n",
       "        vertical-align: top;\n",
       "    }\n",
       "\n",
       "    .dataframe thead th {\n",
       "        text-align: right;\n",
       "    }\n",
       "</style>\n",
       "<table border=\"1\" class=\"dataframe\">\n",
       "  <thead>\n",
       "    <tr style=\"text-align: right;\">\n",
       "      <th></th>\n",
       "      <th>timestamp</th>\n",
       "      <th>cnt</th>\n",
       "      <th>t1</th>\n",
       "      <th>t2</th>\n",
       "      <th>hum</th>\n",
       "      <th>wind_speed</th>\n",
       "      <th>weather_code</th>\n",
       "      <th>is_holiday</th>\n",
       "      <th>is_weekend</th>\n",
       "      <th>season</th>\n",
       "    </tr>\n",
       "  </thead>\n",
       "  <tbody>\n",
       "    <tr>\n",
       "      <th>0</th>\n",
       "      <td>2015-01-04 00:00:00</td>\n",
       "      <td>182</td>\n",
       "      <td>3.0</td>\n",
       "      <td>2.0</td>\n",
       "      <td>93.0</td>\n",
       "      <td>6.0</td>\n",
       "      <td>3.0</td>\n",
       "      <td>0.0</td>\n",
       "      <td>1.0</td>\n",
       "      <td>3.0</td>\n",
       "    </tr>\n",
       "    <tr>\n",
       "      <th>1</th>\n",
       "      <td>2015-01-04 01:00:00</td>\n",
       "      <td>138</td>\n",
       "      <td>3.0</td>\n",
       "      <td>2.5</td>\n",
       "      <td>93.0</td>\n",
       "      <td>5.0</td>\n",
       "      <td>1.0</td>\n",
       "      <td>0.0</td>\n",
       "      <td>1.0</td>\n",
       "      <td>3.0</td>\n",
       "    </tr>\n",
       "    <tr>\n",
       "      <th>2</th>\n",
       "      <td>2015-01-04 02:00:00</td>\n",
       "      <td>134</td>\n",
       "      <td>2.5</td>\n",
       "      <td>2.5</td>\n",
       "      <td>96.5</td>\n",
       "      <td>0.0</td>\n",
       "      <td>1.0</td>\n",
       "      <td>0.0</td>\n",
       "      <td>1.0</td>\n",
       "      <td>3.0</td>\n",
       "    </tr>\n",
       "    <tr>\n",
       "      <th>3</th>\n",
       "      <td>2015-01-04 03:00:00</td>\n",
       "      <td>72</td>\n",
       "      <td>2.0</td>\n",
       "      <td>2.0</td>\n",
       "      <td>100.0</td>\n",
       "      <td>0.0</td>\n",
       "      <td>1.0</td>\n",
       "      <td>0.0</td>\n",
       "      <td>1.0</td>\n",
       "      <td>3.0</td>\n",
       "    </tr>\n",
       "    <tr>\n",
       "      <th>4</th>\n",
       "      <td>2015-01-04 04:00:00</td>\n",
       "      <td>47</td>\n",
       "      <td>2.0</td>\n",
       "      <td>0.0</td>\n",
       "      <td>93.0</td>\n",
       "      <td>6.5</td>\n",
       "      <td>1.0</td>\n",
       "      <td>0.0</td>\n",
       "      <td>1.0</td>\n",
       "      <td>3.0</td>\n",
       "    </tr>\n",
       "  </tbody>\n",
       "</table>\n",
       "</div>"
      ],
      "text/plain": [
       "             timestamp  cnt   t1   t2    hum  wind_speed  weather_code  \\\n",
       "0  2015-01-04 00:00:00  182  3.0  2.0   93.0         6.0           3.0   \n",
       "1  2015-01-04 01:00:00  138  3.0  2.5   93.0         5.0           1.0   \n",
       "2  2015-01-04 02:00:00  134  2.5  2.5   96.5         0.0           1.0   \n",
       "3  2015-01-04 03:00:00   72  2.0  2.0  100.0         0.0           1.0   \n",
       "4  2015-01-04 04:00:00   47  2.0  0.0   93.0         6.5           1.0   \n",
       "\n",
       "   is_holiday  is_weekend  season  \n",
       "0         0.0         1.0     3.0  \n",
       "1         0.0         1.0     3.0  \n",
       "2         0.0         1.0     3.0  \n",
       "3         0.0         1.0     3.0  \n",
       "4         0.0         1.0     3.0  "
      ]
     },
     "execution_count": 2,
     "metadata": {},
     "output_type": "execute_result"
    }
   ],
   "source": [
    "data = pd.read_csv(\"london_merged.csv\")\n",
    "data.head()"
   ]
  },
  {
   "cell_type": "code",
   "execution_count": 4,
   "metadata": {},
   "outputs": [
    {
     "data": {
      "text/plain": [
       "(17414, 10)"
      ]
     },
     "execution_count": 4,
     "metadata": {},
     "output_type": "execute_result"
    }
   ],
   "source": [
    "# data number\n",
    "data.shape"
   ]
  },
  {
   "cell_type": "code",
   "execution_count": 5,
   "metadata": {},
   "outputs": [
    {
     "data": {
      "text/plain": [
       "timestamp        object\n",
       "cnt               int64\n",
       "t1              float64\n",
       "t2              float64\n",
       "hum             float64\n",
       "wind_speed      float64\n",
       "weather_code    float64\n",
       "is_holiday      float64\n",
       "is_weekend      float64\n",
       "season          float64\n",
       "dtype: object"
      ]
     },
     "execution_count": 5,
     "metadata": {},
     "output_type": "execute_result"
    }
   ],
   "source": [
    "# data type\n",
    "data.dtypes"
   ]
  },
  {
   "cell_type": "code",
   "execution_count": 7,
   "metadata": {},
   "outputs": [
    {
     "data": {
      "text/plain": [
       "timestamp       0\n",
       "cnt             0\n",
       "t1              0\n",
       "t2              0\n",
       "hum             0\n",
       "wind_speed      0\n",
       "weather_code    0\n",
       "is_holiday      0\n",
       "is_weekend      0\n",
       "season          0\n",
       "dtype: int64"
      ]
     },
     "execution_count": 7,
     "metadata": {},
     "output_type": "execute_result"
    }
   ],
   "source": [
    "# check if there are any missing data:\n",
    "data.isnull().sum()"
   ]
  },
  {
   "cell_type": "markdown",
   "metadata": {},
   "source": [
    "### Meaning of the data:\n",
    "\n",
    "1. timestamp\n",
    "2. cnt: new bike info\n",
    "3. t1: real tempreature in C\n",
    "4. t2: feeling tempreature\n",
    "5. hum: 湿度\n",
    "6. windspeed:\n",
    "7. weaturecord "
   ]
  },
  {
   "cell_type": "markdown",
   "metadata": {},
   "source": [
    "## EDA"
   ]
  },
  {
   "cell_type": "code",
   "execution_count": 8,
   "metadata": {},
   "outputs": [
    {
     "name": "stdout",
     "output_type": "stream",
     "text": [
      "<class 'pandas.core.frame.DataFrame'>\n",
      "RangeIndex: 17414 entries, 0 to 17413\n",
      "Data columns (total 10 columns):\n",
      " #   Column        Non-Null Count  Dtype  \n",
      "---  ------        --------------  -----  \n",
      " 0   timestamp     17414 non-null  object \n",
      " 1   cnt           17414 non-null  int64  \n",
      " 2   t1            17414 non-null  float64\n",
      " 3   t2            17414 non-null  float64\n",
      " 4   hum           17414 non-null  float64\n",
      " 5   wind_speed    17414 non-null  float64\n",
      " 6   weather_code  17414 non-null  float64\n",
      " 7   is_holiday    17414 non-null  float64\n",
      " 8   is_weekend    17414 non-null  float64\n",
      " 9   season        17414 non-null  float64\n",
      "dtypes: float64(8), int64(1), object(1)\n",
      "memory usage: 2.5 MB\n"
     ]
    }
   ],
   "source": [
    "data.info(memory_usage=\"deep\")"
   ]
  },
  {
   "cell_type": "code",
   "execution_count": 10,
   "metadata": {},
   "outputs": [],
   "source": [
    "# convert timestamp into datatime64 type\n",
    "data[\"timestamp\"] = pd.to_datetime(data[\"timestamp\"])"
   ]
  },
  {
   "cell_type": "code",
   "execution_count": 11,
   "metadata": {},
   "outputs": [
    {
     "data": {
      "text/plain": [
       "timestamp       datetime64[ns]\n",
       "cnt                      int64\n",
       "t1                     float64\n",
       "t2                     float64\n",
       "hum                    float64\n",
       "wind_speed             float64\n",
       "weather_code           float64\n",
       "is_holiday             float64\n",
       "is_weekend             float64\n",
       "season                 float64\n",
       "dtype: object"
      ]
     },
     "execution_count": 11,
     "metadata": {},
     "output_type": "execute_result"
    }
   ],
   "source": [
    "data.dtypes"
   ]
  },
  {
   "cell_type": "code",
   "execution_count": 12,
   "metadata": {},
   "outputs": [
    {
     "data": {
      "text/html": [
       "<div>\n",
       "<style scoped>\n",
       "    .dataframe tbody tr th:only-of-type {\n",
       "        vertical-align: middle;\n",
       "    }\n",
       "\n",
       "    .dataframe tbody tr th {\n",
       "        vertical-align: top;\n",
       "    }\n",
       "\n",
       "    .dataframe thead th {\n",
       "        text-align: right;\n",
       "    }\n",
       "</style>\n",
       "<table border=\"1\" class=\"dataframe\">\n",
       "  <thead>\n",
       "    <tr style=\"text-align: right;\">\n",
       "      <th></th>\n",
       "      <th>cnt</th>\n",
       "      <th>t1</th>\n",
       "      <th>t2</th>\n",
       "      <th>hum</th>\n",
       "      <th>wind_speed</th>\n",
       "      <th>weather_code</th>\n",
       "      <th>is_holiday</th>\n",
       "      <th>is_weekend</th>\n",
       "      <th>season</th>\n",
       "    </tr>\n",
       "    <tr>\n",
       "      <th>timestamp</th>\n",
       "      <th></th>\n",
       "      <th></th>\n",
       "      <th></th>\n",
       "      <th></th>\n",
       "      <th></th>\n",
       "      <th></th>\n",
       "      <th></th>\n",
       "      <th></th>\n",
       "      <th></th>\n",
       "    </tr>\n",
       "  </thead>\n",
       "  <tbody>\n",
       "    <tr>\n",
       "      <th>2015-01-04 00:00:00</th>\n",
       "      <td>182</td>\n",
       "      <td>3.0</td>\n",
       "      <td>2.0</td>\n",
       "      <td>93.0</td>\n",
       "      <td>6.0</td>\n",
       "      <td>3.0</td>\n",
       "      <td>0.0</td>\n",
       "      <td>1.0</td>\n",
       "      <td>3.0</td>\n",
       "    </tr>\n",
       "    <tr>\n",
       "      <th>2015-01-04 01:00:00</th>\n",
       "      <td>138</td>\n",
       "      <td>3.0</td>\n",
       "      <td>2.5</td>\n",
       "      <td>93.0</td>\n",
       "      <td>5.0</td>\n",
       "      <td>1.0</td>\n",
       "      <td>0.0</td>\n",
       "      <td>1.0</td>\n",
       "      <td>3.0</td>\n",
       "    </tr>\n",
       "    <tr>\n",
       "      <th>2015-01-04 02:00:00</th>\n",
       "      <td>134</td>\n",
       "      <td>2.5</td>\n",
       "      <td>2.5</td>\n",
       "      <td>96.5</td>\n",
       "      <td>0.0</td>\n",
       "      <td>1.0</td>\n",
       "      <td>0.0</td>\n",
       "      <td>1.0</td>\n",
       "      <td>3.0</td>\n",
       "    </tr>\n",
       "    <tr>\n",
       "      <th>2015-01-04 03:00:00</th>\n",
       "      <td>72</td>\n",
       "      <td>2.0</td>\n",
       "      <td>2.0</td>\n",
       "      <td>100.0</td>\n",
       "      <td>0.0</td>\n",
       "      <td>1.0</td>\n",
       "      <td>0.0</td>\n",
       "      <td>1.0</td>\n",
       "      <td>3.0</td>\n",
       "    </tr>\n",
       "    <tr>\n",
       "      <th>2015-01-04 04:00:00</th>\n",
       "      <td>47</td>\n",
       "      <td>2.0</td>\n",
       "      <td>0.0</td>\n",
       "      <td>93.0</td>\n",
       "      <td>6.5</td>\n",
       "      <td>1.0</td>\n",
       "      <td>0.0</td>\n",
       "      <td>1.0</td>\n",
       "      <td>3.0</td>\n",
       "    </tr>\n",
       "  </tbody>\n",
       "</table>\n",
       "</div>"
      ],
      "text/plain": [
       "                     cnt   t1   t2    hum  wind_speed  weather_code  \\\n",
       "timestamp                                                             \n",
       "2015-01-04 00:00:00  182  3.0  2.0   93.0         6.0           3.0   \n",
       "2015-01-04 01:00:00  138  3.0  2.5   93.0         5.0           1.0   \n",
       "2015-01-04 02:00:00  134  2.5  2.5   96.5         0.0           1.0   \n",
       "2015-01-04 03:00:00   72  2.0  2.0  100.0         0.0           1.0   \n",
       "2015-01-04 04:00:00   47  2.0  0.0   93.0         6.5           1.0   \n",
       "\n",
       "                     is_holiday  is_weekend  season  \n",
       "timestamp                                            \n",
       "2015-01-04 00:00:00         0.0         1.0     3.0  \n",
       "2015-01-04 01:00:00         0.0         1.0     3.0  \n",
       "2015-01-04 02:00:00         0.0         1.0     3.0  \n",
       "2015-01-04 03:00:00         0.0         1.0     3.0  \n",
       "2015-01-04 04:00:00         0.0         1.0     3.0  "
      ]
     },
     "execution_count": 12,
     "metadata": {},
     "output_type": "execute_result"
    }
   ],
   "source": [
    "# change the index to timestamp\n",
    "data = data.set_index(\"timestamp\")\n",
    "data.head()"
   ]
  },
  {
   "cell_type": "code",
   "execution_count": 13,
   "metadata": {},
   "outputs": [],
   "source": [
    "# 3. get the hour, date, week, and month\n",
    "data[\"hour\"] = data.index.hour\n",
    "data[\"day_of_month\"] = data.index.day\n",
    "data[\"day_of_week\"] = data.index.dayofweek\n",
    "data[\"month\"] = data.index.month\n"
   ]
  },
  {
   "cell_type": "code",
   "execution_count": 14,
   "metadata": {},
   "outputs": [
    {
     "data": {
      "text/plain": [
       "Index(['cnt', 't1', 't2', 'hum', 'wind_speed', 'weather_code', 'is_holiday',\n",
       "       'is_weekend', 'season', 'hour', 'day_of_month', 'day_of_week', 'month'],\n",
       "      dtype='object')"
      ]
     },
     "execution_count": 14,
     "metadata": {},
     "output_type": "execute_result"
    }
   ],
   "source": [
    "data.columns"
   ]
  },
  {
   "cell_type": "code",
   "execution_count": 15,
   "metadata": {},
   "outputs": [
    {
     "data": {
      "text/plain": [
       "(17414, 13)"
      ]
     },
     "execution_count": 15,
     "metadata": {},
     "output_type": "execute_result"
    }
   ],
   "source": [
    "data.shape"
   ]
  },
  {
   "cell_type": "markdown",
   "metadata": {},
   "source": [
    "## Correlation coefficient to find the absolute value"
   ]
  },
  {
   "cell_type": "code",
   "execution_count": 16,
   "metadata": {},
   "outputs": [
    {
     "data": {
      "text/html": [
       "<div>\n",
       "<style scoped>\n",
       "    .dataframe tbody tr th:only-of-type {\n",
       "        vertical-align: middle;\n",
       "    }\n",
       "\n",
       "    .dataframe tbody tr th {\n",
       "        vertical-align: top;\n",
       "    }\n",
       "\n",
       "    .dataframe thead th {\n",
       "        text-align: right;\n",
       "    }\n",
       "</style>\n",
       "<table border=\"1\" class=\"dataframe\">\n",
       "  <thead>\n",
       "    <tr style=\"text-align: right;\">\n",
       "      <th></th>\n",
       "      <th>cnt</th>\n",
       "      <th>t1</th>\n",
       "      <th>t2</th>\n",
       "      <th>hum</th>\n",
       "      <th>wind_speed</th>\n",
       "      <th>weather_code</th>\n",
       "      <th>is_holiday</th>\n",
       "      <th>is_weekend</th>\n",
       "      <th>season</th>\n",
       "      <th>hour</th>\n",
       "      <th>day_of_month</th>\n",
       "      <th>day_of_week</th>\n",
       "      <th>month</th>\n",
       "    </tr>\n",
       "  </thead>\n",
       "  <tbody>\n",
       "    <tr>\n",
       "      <th>cnt</th>\n",
       "      <td>1.000000</td>\n",
       "      <td>0.388798</td>\n",
       "      <td>0.369035</td>\n",
       "      <td>0.462901</td>\n",
       "      <td>0.116295</td>\n",
       "      <td>0.166633</td>\n",
       "      <td>0.051698</td>\n",
       "      <td>0.096499</td>\n",
       "      <td>0.116180</td>\n",
       "      <td>0.324423</td>\n",
       "      <td>0.017887</td>\n",
       "      <td>0.068688</td>\n",
       "      <td>0.063757</td>\n",
       "    </tr>\n",
       "    <tr>\n",
       "      <th>t1</th>\n",
       "      <td>0.388798</td>\n",
       "      <td>1.000000</td>\n",
       "      <td>0.988344</td>\n",
       "      <td>0.447781</td>\n",
       "      <td>0.145471</td>\n",
       "      <td>0.097114</td>\n",
       "      <td>0.042233</td>\n",
       "      <td>0.005342</td>\n",
       "      <td>0.285851</td>\n",
       "      <td>0.168708</td>\n",
       "      <td>0.005072</td>\n",
       "      <td>0.002317</td>\n",
       "      <td>0.332712</td>\n",
       "    </tr>\n",
       "    <tr>\n",
       "      <th>t2</th>\n",
       "      <td>0.369035</td>\n",
       "      <td>0.988344</td>\n",
       "      <td>1.000000</td>\n",
       "      <td>0.403495</td>\n",
       "      <td>0.088409</td>\n",
       "      <td>0.098385</td>\n",
       "      <td>0.040051</td>\n",
       "      <td>0.008510</td>\n",
       "      <td>0.285900</td>\n",
       "      <td>0.153956</td>\n",
       "      <td>0.006791</td>\n",
       "      <td>0.006824</td>\n",
       "      <td>0.368366</td>\n",
       "    </tr>\n",
       "    <tr>\n",
       "      <th>hum</th>\n",
       "      <td>0.462901</td>\n",
       "      <td>0.447781</td>\n",
       "      <td>0.403495</td>\n",
       "      <td>1.000000</td>\n",
       "      <td>0.287789</td>\n",
       "      <td>0.334750</td>\n",
       "      <td>0.032068</td>\n",
       "      <td>0.028098</td>\n",
       "      <td>0.290381</td>\n",
       "      <td>0.295653</td>\n",
       "      <td>0.020868</td>\n",
       "      <td>0.011556</td>\n",
       "      <td>0.113149</td>\n",
       "    </tr>\n",
       "    <tr>\n",
       "      <th>wind_speed</th>\n",
       "      <td>0.116295</td>\n",
       "      <td>0.145471</td>\n",
       "      <td>0.088409</td>\n",
       "      <td>0.287789</td>\n",
       "      <td>1.000000</td>\n",
       "      <td>0.124803</td>\n",
       "      <td>0.002606</td>\n",
       "      <td>0.011479</td>\n",
       "      <td>0.010305</td>\n",
       "      <td>0.141792</td>\n",
       "      <td>0.002040</td>\n",
       "      <td>0.001708</td>\n",
       "      <td>0.086383</td>\n",
       "    </tr>\n",
       "    <tr>\n",
       "      <th>weather_code</th>\n",
       "      <td>0.166633</td>\n",
       "      <td>0.097114</td>\n",
       "      <td>0.098385</td>\n",
       "      <td>0.334750</td>\n",
       "      <td>0.124803</td>\n",
       "      <td>1.000000</td>\n",
       "      <td>0.012939</td>\n",
       "      <td>0.042362</td>\n",
       "      <td>0.098976</td>\n",
       "      <td>0.041786</td>\n",
       "      <td>0.001904</td>\n",
       "      <td>0.020619</td>\n",
       "      <td>0.033253</td>\n",
       "    </tr>\n",
       "    <tr>\n",
       "      <th>is_holiday</th>\n",
       "      <td>0.051698</td>\n",
       "      <td>0.042233</td>\n",
       "      <td>0.040051</td>\n",
       "      <td>0.032068</td>\n",
       "      <td>0.002606</td>\n",
       "      <td>0.012939</td>\n",
       "      <td>1.000000</td>\n",
       "      <td>0.094898</td>\n",
       "      <td>0.032488</td>\n",
       "      <td>0.000288</td>\n",
       "      <td>0.042657</td>\n",
       "      <td>0.144628</td>\n",
       "      <td>0.011511</td>\n",
       "    </tr>\n",
       "    <tr>\n",
       "      <th>is_weekend</th>\n",
       "      <td>0.096499</td>\n",
       "      <td>0.005342</td>\n",
       "      <td>0.008510</td>\n",
       "      <td>0.028098</td>\n",
       "      <td>0.011479</td>\n",
       "      <td>0.042362</td>\n",
       "      <td>0.094898</td>\n",
       "      <td>1.000000</td>\n",
       "      <td>0.001067</td>\n",
       "      <td>0.001803</td>\n",
       "      <td>0.005721</td>\n",
       "      <td>0.791975</td>\n",
       "      <td>0.005406</td>\n",
       "    </tr>\n",
       "    <tr>\n",
       "      <th>season</th>\n",
       "      <td>0.116180</td>\n",
       "      <td>0.285851</td>\n",
       "      <td>0.285900</td>\n",
       "      <td>0.290381</td>\n",
       "      <td>0.010305</td>\n",
       "      <td>0.098976</td>\n",
       "      <td>0.032488</td>\n",
       "      <td>0.001067</td>\n",
       "      <td>1.000000</td>\n",
       "      <td>0.000006</td>\n",
       "      <td>0.006460</td>\n",
       "      <td>0.002356</td>\n",
       "      <td>0.203249</td>\n",
       "    </tr>\n",
       "    <tr>\n",
       "      <th>hour</th>\n",
       "      <td>0.324423</td>\n",
       "      <td>0.168708</td>\n",
       "      <td>0.153956</td>\n",
       "      <td>0.295653</td>\n",
       "      <td>0.141792</td>\n",
       "      <td>0.041786</td>\n",
       "      <td>0.000288</td>\n",
       "      <td>0.001803</td>\n",
       "      <td>0.000006</td>\n",
       "      <td>1.000000</td>\n",
       "      <td>0.000310</td>\n",
       "      <td>0.001834</td>\n",
       "      <td>0.000312</td>\n",
       "    </tr>\n",
       "    <tr>\n",
       "      <th>day_of_month</th>\n",
       "      <td>0.017887</td>\n",
       "      <td>0.005072</td>\n",
       "      <td>0.006791</td>\n",
       "      <td>0.020868</td>\n",
       "      <td>0.002040</td>\n",
       "      <td>0.001904</td>\n",
       "      <td>0.042657</td>\n",
       "      <td>0.005721</td>\n",
       "      <td>0.006460</td>\n",
       "      <td>0.000310</td>\n",
       "      <td>1.000000</td>\n",
       "      <td>0.006974</td>\n",
       "      <td>0.012614</td>\n",
       "    </tr>\n",
       "    <tr>\n",
       "      <th>day_of_week</th>\n",
       "      <td>0.068688</td>\n",
       "      <td>0.002317</td>\n",
       "      <td>0.006824</td>\n",
       "      <td>0.011556</td>\n",
       "      <td>0.001708</td>\n",
       "      <td>0.020619</td>\n",
       "      <td>0.144628</td>\n",
       "      <td>0.791975</td>\n",
       "      <td>0.002356</td>\n",
       "      <td>0.001834</td>\n",
       "      <td>0.006974</td>\n",
       "      <td>1.000000</td>\n",
       "      <td>0.001080</td>\n",
       "    </tr>\n",
       "    <tr>\n",
       "      <th>month</th>\n",
       "      <td>0.063757</td>\n",
       "      <td>0.332712</td>\n",
       "      <td>0.368366</td>\n",
       "      <td>0.113149</td>\n",
       "      <td>0.086383</td>\n",
       "      <td>0.033253</td>\n",
       "      <td>0.011511</td>\n",
       "      <td>0.005406</td>\n",
       "      <td>0.203249</td>\n",
       "      <td>0.000312</td>\n",
       "      <td>0.012614</td>\n",
       "      <td>0.001080</td>\n",
       "      <td>1.000000</td>\n",
       "    </tr>\n",
       "  </tbody>\n",
       "</table>\n",
       "</div>"
      ],
      "text/plain": [
       "                   cnt        t1        t2       hum  wind_speed  \\\n",
       "cnt           1.000000  0.388798  0.369035  0.462901    0.116295   \n",
       "t1            0.388798  1.000000  0.988344  0.447781    0.145471   \n",
       "t2            0.369035  0.988344  1.000000  0.403495    0.088409   \n",
       "hum           0.462901  0.447781  0.403495  1.000000    0.287789   \n",
       "wind_speed    0.116295  0.145471  0.088409  0.287789    1.000000   \n",
       "weather_code  0.166633  0.097114  0.098385  0.334750    0.124803   \n",
       "is_holiday    0.051698  0.042233  0.040051  0.032068    0.002606   \n",
       "is_weekend    0.096499  0.005342  0.008510  0.028098    0.011479   \n",
       "season        0.116180  0.285851  0.285900  0.290381    0.010305   \n",
       "hour          0.324423  0.168708  0.153956  0.295653    0.141792   \n",
       "day_of_month  0.017887  0.005072  0.006791  0.020868    0.002040   \n",
       "day_of_week   0.068688  0.002317  0.006824  0.011556    0.001708   \n",
       "month         0.063757  0.332712  0.368366  0.113149    0.086383   \n",
       "\n",
       "              weather_code  is_holiday  is_weekend    season      hour  \\\n",
       "cnt               0.166633    0.051698    0.096499  0.116180  0.324423   \n",
       "t1                0.097114    0.042233    0.005342  0.285851  0.168708   \n",
       "t2                0.098385    0.040051    0.008510  0.285900  0.153956   \n",
       "hum               0.334750    0.032068    0.028098  0.290381  0.295653   \n",
       "wind_speed        0.124803    0.002606    0.011479  0.010305  0.141792   \n",
       "weather_code      1.000000    0.012939    0.042362  0.098976  0.041786   \n",
       "is_holiday        0.012939    1.000000    0.094898  0.032488  0.000288   \n",
       "is_weekend        0.042362    0.094898    1.000000  0.001067  0.001803   \n",
       "season            0.098976    0.032488    0.001067  1.000000  0.000006   \n",
       "hour              0.041786    0.000288    0.001803  0.000006  1.000000   \n",
       "day_of_month      0.001904    0.042657    0.005721  0.006460  0.000310   \n",
       "day_of_week       0.020619    0.144628    0.791975  0.002356  0.001834   \n",
       "month             0.033253    0.011511    0.005406  0.203249  0.000312   \n",
       "\n",
       "              day_of_month  day_of_week     month  \n",
       "cnt               0.017887     0.068688  0.063757  \n",
       "t1                0.005072     0.002317  0.332712  \n",
       "t2                0.006791     0.006824  0.368366  \n",
       "hum               0.020868     0.011556  0.113149  \n",
       "wind_speed        0.002040     0.001708  0.086383  \n",
       "weather_code      0.001904     0.020619  0.033253  \n",
       "is_holiday        0.042657     0.144628  0.011511  \n",
       "is_weekend        0.005721     0.791975  0.005406  \n",
       "season            0.006460     0.002356  0.203249  \n",
       "hour              0.000310     0.001834  0.000312  \n",
       "day_of_month      1.000000     0.006974  0.012614  \n",
       "day_of_week       0.006974     1.000000  0.001080  \n",
       "month             0.012614     0.001080  1.000000  "
      ]
     },
     "execution_count": 16,
     "metadata": {},
     "output_type": "execute_result"
    }
   ],
   "source": [
    "corr_matrix = data.corr().abs()\n",
    "corr_matrix"
   ]
  },
  {
   "cell_type": "code",
   "execution_count": 17,
   "metadata": {},
   "outputs": [
    {
     "data": {
      "text/plain": [
       "[('t1', 't2')]"
      ]
     },
     "execution_count": 17,
     "metadata": {},
     "output_type": "execute_result"
    }
   ],
   "source": [
    "# if the correlation between two variables is greater than 0.8. \n",
    "high_corr_var=np.where(corr_matrix>0.8)\n",
    "high_corr_var=[(corr_matrix.columns[x],corr_matrix.columns[y]) for x,y in zip(*high_corr_var) if x!=y and x<y]\n",
    "\n",
    "high_corr_var"
   ]
  },
  {
   "cell_type": "code",
   "execution_count": 20,
   "metadata": {},
   "outputs": [
    {
     "data": {
      "image/png": "[encoded data removed]",
      "text/plain": [
       "<Figure size 1200x900 with 2 Axes>"
      ]
     },
     "metadata": {},
     "output_type": "display_data"
    }
   ],
   "source": [
    "## Correlation coefficient heat map\n",
    "plt.figure(figsize=(12, 9))\n",
    "\n",
    "sns.heatmap(data.corr(),\n",
    "            cmap=\"YlGnBu\",  # 色系\n",
    "            square=True,  # 方形\n",
    "            linewidths=.2,\n",
    "            center=0,\n",
    "            linecolor=\"red\"  # 线条颜色\n",
    "           )\n",
    "\n",
    "plt.title('Correlation Coefficient Heatmap', fontsize=16)\n",
    "plt.show()"
   ]
  },
  {
   "cell_type": "markdown",
   "metadata": {},
   "source": [
    "### quantity demanded"
   ]
  },
  {
   "cell_type": "code",
   "execution_count": 21,
   "metadata": {},
   "outputs": [
    {
     "data": {
      "text/plain": [
       "(array([16436., 16526., 16617., 16709., 16801., 16892., 16983., 17075.,\n",
       "        17167.]),\n",
       " [Text(16436.0, 0, '2015-01'),\n",
       "  Text(16526.0, 0, '2015-04'),\n",
       "  Text(16617.0, 0, '2015-07'),\n",
       "  Text(16709.0, 0, '2015-10'),\n",
       "  Text(16801.0, 0, '2016-01'),\n",
       "  Text(16892.0, 0, '2016-04'),\n",
       "  Text(16983.0, 0, '2016-07'),\n",
       "  Text(17075.0, 0, '2016-10'),\n",
       "  Text(17167.0, 0, '2017-01')])"
      ]
     },
     "execution_count": 21,
     "metadata": {},
     "output_type": "execute_result"
    },
    {
     "data": {
      "image/png": "[encoded data removed]",
      "text/plain": [
       "<Figure size 1500x600 with 1 Axes>"
      ]
     },
     "metadata": {},
     "output_type": "display_data"
    }
   ],
   "source": [
    "plt.figure(figsize=(15,6))\n",
    "\n",
    "sns.lineplot(data=data,  # 传入数据\n",
    "             x=data.index,  # 时间\n",
    "             y=data.cnt  # 需求量\n",
    "            )\n",
    "\n",
    "plt.xticks(rotation=90)"
   ]
  },
  {
   "cell_type": "markdown",
   "metadata": {},
   "source": [
    "### Resample per month"
   ]
  },
  {
   "cell_type": "code",
   "execution_count": 24,
   "metadata": {},
   "outputs": [
    {
     "data": {
      "text/html": [
       "<div>\n",
       "<style scoped>\n",
       "    .dataframe tbody tr th:only-of-type {\n",
       "        vertical-align: middle;\n",
       "    }\n",
       "\n",
       "    .dataframe tbody tr th {\n",
       "        vertical-align: top;\n",
       "    }\n",
       "\n",
       "    .dataframe thead th {\n",
       "        text-align: right;\n",
       "    }\n",
       "</style>\n",
       "<table border=\"1\" class=\"dataframe\">\n",
       "  <thead>\n",
       "    <tr style=\"text-align: right;\">\n",
       "      <th></th>\n",
       "      <th>cnt</th>\n",
       "      <th>t1</th>\n",
       "      <th>t2</th>\n",
       "      <th>hum</th>\n",
       "      <th>wind_speed</th>\n",
       "      <th>weather_code</th>\n",
       "      <th>is_holiday</th>\n",
       "      <th>is_weekend</th>\n",
       "      <th>season</th>\n",
       "      <th>hour</th>\n",
       "      <th>day_of_month</th>\n",
       "      <th>day_of_week</th>\n",
       "      <th>month</th>\n",
       "    </tr>\n",
       "    <tr>\n",
       "      <th>timestamp</th>\n",
       "      <th></th>\n",
       "      <th></th>\n",
       "      <th></th>\n",
       "      <th></th>\n",
       "      <th></th>\n",
       "      <th></th>\n",
       "      <th></th>\n",
       "      <th></th>\n",
       "      <th></th>\n",
       "      <th></th>\n",
       "      <th></th>\n",
       "      <th></th>\n",
       "      <th></th>\n",
       "    </tr>\n",
       "  </thead>\n",
       "  <tbody>\n",
       "    <tr>\n",
       "      <th>2015-01-31</th>\n",
       "      <td>546639</td>\n",
       "      <td>4101.0</td>\n",
       "      <td>2255.5</td>\n",
       "      <td>51005.00</td>\n",
       "      <td>12502.00</td>\n",
       "      <td>2211.0</td>\n",
       "      <td>0.0</td>\n",
       "      <td>192.0</td>\n",
       "      <td>2013.0</td>\n",
       "      <td>7709</td>\n",
       "      <td>11753</td>\n",
       "      <td>2014</td>\n",
       "      <td>671</td>\n",
       "    </tr>\n",
       "    <tr>\n",
       "      <th>2015-02-28</th>\n",
       "      <td>543594</td>\n",
       "      <td>3721.5</td>\n",
       "      <td>1868.0</td>\n",
       "      <td>51950.00</td>\n",
       "      <td>9873.50</td>\n",
       "      <td>2409.0</td>\n",
       "      <td>0.0</td>\n",
       "      <td>192.0</td>\n",
       "      <td>2013.0</td>\n",
       "      <td>7707</td>\n",
       "      <td>9734</td>\n",
       "      <td>2015</td>\n",
       "      <td>1342</td>\n",
       "    </tr>\n",
       "    <tr>\n",
       "      <th>2015-03-31</th>\n",
       "      <td>695934</td>\n",
       "      <td>6093.5</td>\n",
       "      <td>4558.5</td>\n",
       "      <td>51832.25</td>\n",
       "      <td>12938.25</td>\n",
       "      <td>1940.0</td>\n",
       "      <td>0.0</td>\n",
       "      <td>215.0</td>\n",
       "      <td>0.0</td>\n",
       "      <td>8540</td>\n",
       "      <td>11751</td>\n",
       "      <td>2174</td>\n",
       "      <td>2217</td>\n",
       "    </tr>\n",
       "    <tr>\n",
       "      <th>2015-04-30</th>\n",
       "      <td>831582</td>\n",
       "      <td>7873.0</td>\n",
       "      <td>7112.5</td>\n",
       "      <td>48468.00</td>\n",
       "      <td>10988.50</td>\n",
       "      <td>1642.0</td>\n",
       "      <td>48.0</td>\n",
       "      <td>191.0</td>\n",
       "      <td>0.0</td>\n",
       "      <td>8270</td>\n",
       "      <td>11156</td>\n",
       "      <td>2131</td>\n",
       "      <td>2876</td>\n",
       "    </tr>\n",
       "    <tr>\n",
       "      <th>2015-05-31</th>\n",
       "      <td>895413</td>\n",
       "      <td>10091.5</td>\n",
       "      <td>9803.5</td>\n",
       "      <td>47939.00</td>\n",
       "      <td>14268.50</td>\n",
       "      <td>1900.0</td>\n",
       "      <td>48.0</td>\n",
       "      <td>240.0</td>\n",
       "      <td>0.0</td>\n",
       "      <td>8556</td>\n",
       "      <td>11904</td>\n",
       "      <td>2376</td>\n",
       "      <td>3720</td>\n",
       "    </tr>\n",
       "  </tbody>\n",
       "</table>\n",
       "</div>"
      ],
      "text/plain": [
       "               cnt       t1      t2       hum  wind_speed  weather_code  \\\n",
       "timestamp                                                                 \n",
       "2015-01-31  546639   4101.0  2255.5  51005.00    12502.00        2211.0   \n",
       "2015-02-28  543594   3721.5  1868.0  51950.00     9873.50        2409.0   \n",
       "2015-03-31  695934   6093.5  4558.5  51832.25    12938.25        1940.0   \n",
       "2015-04-30  831582   7873.0  7112.5  48468.00    10988.50        1642.0   \n",
       "2015-05-31  895413  10091.5  9803.5  47939.00    14268.50        1900.0   \n",
       "\n",
       "            is_holiday  is_weekend  season  hour  day_of_month  day_of_week  \\\n",
       "timestamp                                                                     \n",
       "2015-01-31         0.0       192.0  2013.0  7709         11753         2014   \n",
       "2015-02-28         0.0       192.0  2013.0  7707          9734         2015   \n",
       "2015-03-31         0.0       215.0     0.0  8540         11751         2174   \n",
       "2015-04-30        48.0       191.0     0.0  8270         11156         2131   \n",
       "2015-05-31        48.0       240.0     0.0  8556         11904         2376   \n",
       "\n",
       "            month  \n",
       "timestamp          \n",
       "2015-01-31    671  \n",
       "2015-02-28   1342  \n",
       "2015-03-31   2217  \n",
       "2015-04-30   2876  \n",
       "2015-05-31   3720  "
      ]
     },
     "execution_count": 24,
     "metadata": {},
     "output_type": "execute_result"
    }
   ],
   "source": [
    "df_by_month = data.resample(\"M\").sum()\n",
    "df_by_month.head()"
   ]
  },
  {
   "cell_type": "code",
   "execution_count": null,
   "metadata": {},
   "outputs": [
    {
     "data": {
      "image/png": "[encoded data removed]",
      "text/plain": [
       "<Figure size 1600x600 with 1 Axes>"
      ]
     },
     "metadata": {},
     "output_type": "display_data"
    },
    {
     "ename": "",
     "evalue": "",
     "output_type": "error",
     "traceback": [
      "\u001b[1;31mThe Kernel crashed while executing code in the current cell or a previous cell. \n",
      "\u001b[1;31mPlease review the code in the cell(s) to identify a possible cause of the failure. \n",
      "\u001b[1;31mClick <a href='https://aka.ms/vscodeJupyterKernelCrash'>here</a> for more info. \n",
      "\u001b[1;31mView Jupyter <a href='command:jupyter.viewOutput'>log</a> for further details."
     ]
    }
   ],
   "source": [
    "plt.figure(figsize=(16,6))\n",
    "\n",
    "sns.lineplot(data=df_by_month,\n",
    "             x=df_by_month.index,\n",
    "             y=df_by_month.cnt,\n",
    "             color=\"red\"\n",
    "            )\n",
    "\n",
    "plt.xticks(rotation=90)\n",
    "\n",
    "plt.show()"
   ]
  }
 ],
 "metadata": {
  "kernelspec": {
   "display_name": "Python 3",
   "language": "python",
   "name": "python3"
  },
  "language_info": {
   "codemirror_mode": {
    "name": "ipython",
    "version": 3
   },
   "file_extension": ".py",
   "mimetype": "text/x-python",
   "name": "python",
   "nbconvert_exporter": "python",
   "pygments_lexer": "ipython3",
   "version": "3.11.9"
  }
 },
 "nbformat": 4,
 "nbformat_minor": 2
}
