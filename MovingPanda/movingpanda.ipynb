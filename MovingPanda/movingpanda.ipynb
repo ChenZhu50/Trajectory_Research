{
 "cells": [
  {
   "cell_type": "code",
   "execution_count": 4,
   "metadata": {},
   "outputs": [],
   "source": [
    "import warnings\n",
    "warnings.filterwarnings(\"ignore\")"
   ]
  },
  {
   "cell_type": "code",
   "execution_count": 5,
   "metadata": {},
   "outputs": [],
   "source": [
    "import movingpandas as mpd"
   ]
  },
  {
   "cell_type": "code",
   "execution_count": 3,
   "metadata": {},
   "outputs": [
    {
     "name": "stdout",
     "output_type": "stream",
     "text": [
      "\n",
      "MovingPandas 0.19.0\n",
      "\n",
      "SYSTEM INFO\n",
      "-----------\n",
      "python     : 3.11.9 (tags/v3.11.9:de54cf5, Apr  2 2024, 10:12:12) [MSC v.1938 64 bit (AMD64)]\n",
      "executable : C:\\Users\\zhuch\\AppData\\Local\\Microsoft\\WindowsApps\\PythonSoftwareFoundation.Python.3.11_qbz5n2kfra8p0\\python.exe\n",
      "machine    : Windows-10-10.0.22631-SP0\n",
      "\n",
      "GEOS, GDAL, PROJ INFO\n",
      "---------------------\n",
      "GEOS       : None\n",
      "GEOS lib   : None\n",
      "GDAL       : 3.9.1\n",
      "GDAL data dir: C:\\Users\\zhuch\\AppData\\Local\\Packages\\PythonSoftwareFoundation.Python.3.11_qbz5n2kfra8p0\\LocalCache\\local-packages\\Python311\\site-packages\\fiona\\gdal_data\n",
      "PROJ       : 9.3.0\n",
      "PROJ data dir: C:\\Users\\zhuch\\AppData\\Local\\Packages\\PythonSoftwareFoundation.Python.3.11_qbz5n2kfra8p0\\LocalCache\\local-packages\\Python311\\site-packages\\pyproj\\proj_dir\\share\\proj\n",
      "\n",
      "PYTHON DEPENDENCIES\n",
      "-------------------\n",
      "geopandas  : 1.0.1\n",
      "pandas     : 2.2.2\n",
      "fiona      : 1.10.0\n",
      "numpy      : 2.0.0\n",
      "shapely    : 2.0.6\n",
      "pyproj     : 3.6.1\n",
      "matplotlib : 3.9.2\n",
      "mapclassify: None\n",
      "geopy      : 2.4.1\n",
      "holoviews  : 1.19.1\n",
      "hvplot     : 0.10.0\n",
      "geoviews   : 1.12.0\n",
      "stonesoup  : None\n"
     ]
    }
   ],
   "source": [
    "mpd.show_versions()"
   ]
  },
  {
   "cell_type": "markdown",
   "metadata": {},
   "source": [
    "Import packages"
   ]
  },
  {
   "cell_type": "code",
   "execution_count": 6,
   "metadata": {},
   "outputs": [],
   "source": [
    "import pandas as pd\n",
    "import geopandas as gpd\n",
    "import shapely as shp\n",
    "\n",
    "from geopandas import GeoDataFrame, read_file\n",
    "from shapely.geometry import Point,LineString, Polygon\n",
    "from datetime import datetime, timedelta\n"
   ]
  },
  {
   "cell_type": "markdown",
   "metadata": {},
   "source": [
    "This is Trajectory object in movingPandas"
   ]
  },
  {
   "cell_type": "code",
   "execution_count": null,
   "metadata": {},
   "outputs": [],
   "source": [
    "# class Trajectory:\n",
    "#     def __init__( \n",
    "#         self,\n",
    "#         df, # GroPandas locations with time or Pandas DataFrame(Must have)\n",
    "#         traj_id,(Track the movement)\n",
    "#         obj_id=None,\n",
    "#         t=None,(time)\n",
    "#         x=None,\n",
    "#         y=None,\n",
    "#         crs=\"epsg:4326\",\n",
    "#         parent=None,\n",
    "#     ):"
   ]
  },
  {
   "cell_type": "code",
   "execution_count": 8,
   "metadata": {},
   "outputs": [
    {
     "data": {
      "text/html": [
       "<div>\n",
       "<style scoped>\n",
       "    .dataframe tbody tr th:only-of-type {\n",
       "        vertical-align: middle;\n",
       "    }\n",
       "\n",
       "    .dataframe tbody tr th {\n",
       "        vertical-align: top;\n",
       "    }\n",
       "\n",
       "    .dataframe thead th {\n",
       "        text-align: right;\n",
       "    }\n",
       "</style>\n",
       "<table border=\"1\" class=\"dataframe\">\n",
       "  <thead>\n",
       "    <tr style=\"text-align: right;\">\n",
       "      <th></th>\n",
       "      <th>geometry</th>\n",
       "    </tr>\n",
       "    <tr>\n",
       "      <th>t</th>\n",
       "      <th></th>\n",
       "    </tr>\n",
       "  </thead>\n",
       "  <tbody>\n",
       "    <tr>\n",
       "      <th>2023-07-01 12:00:00</th>\n",
       "      <td>POINT (0 0)</td>\n",
       "    </tr>\n",
       "    <tr>\n",
       "      <th>2023-07-01 12:06:00</th>\n",
       "      <td>POINT (6 0)</td>\n",
       "    </tr>\n",
       "    <tr>\n",
       "      <th>2023-07-01 12:10:00</th>\n",
       "      <td>POINT (6 6)</td>\n",
       "    </tr>\n",
       "    <tr>\n",
       "      <th>2023-07-01 12:15:00</th>\n",
       "      <td>POINT (9 9)</td>\n",
       "    </tr>\n",
       "  </tbody>\n",
       "</table>\n",
       "</div>"
      ],
      "text/plain": [
       "                        geometry\n",
       "t                               \n",
       "2023-07-01 12:00:00  POINT (0 0)\n",
       "2023-07-01 12:06:00  POINT (6 0)\n",
       "2023-07-01 12:10:00  POINT (6 6)\n",
       "2023-07-01 12:15:00  POINT (9 9)"
      ]
     },
     "execution_count": 8,
     "metadata": {},
     "output_type": "execute_result"
    }
   ],
   "source": [
    "df = pd.DataFrame([\n",
    "    {'geometry': Point(0, 0), 't': datetime(2023, 7, 1, 12, 0, 0)},\n",
    "    {'geometry': Point(6, 0), 't': datetime(2023, 7, 1, 12, 6, 0)},\n",
    "    {'geometry': Point(6, 6), 't': datetime(2023, 7, 1, 12, 10, 0)},\n",
    "    {'geometry': Point(9, 9), 't': datetime(2023, 7, 1, 12, 15, 0)}])\n",
    "\n",
    "df = df.set_index('t')\n",
    "\n",
    "# creat GeoDataFrame object\n",
    "# EPSG:3857 always using in map, meter is the uni\n",
    "gdf = GeoDataFrame(df, crs='EPSG:3857')\n",
    "gdf"
   ]
  },
  {
   "cell_type": "code",
   "execution_count": 9,
   "metadata": {},
   "outputs": [
    {
     "data": {
      "text/plain": [
       "Trajectory 1 (2023-07-01 12:00:00 to 2023-07-01 12:15:00) | Size: 4 | Length: 16.2m\n",
       "Bounds: (0.0, 0.0, 9.0, 9.0)\n",
       "LINESTRING (0 0, 6 0, 6 6, 9 9)"
      ]
     },
     "execution_count": 9,
     "metadata": {},
     "output_type": "execute_result"
    }
   ],
   "source": [
    "toy_traj = mpd.Trajectory(gdf,1)\n",
    "toy_traj"
   ]
  },
  {
   "cell_type": "code",
   "execution_count": 10,
   "metadata": {},
   "outputs": [
    {
     "data": {
      "text/plain": [
       "<Axes: >"
      ]
     },
     "execution_count": 10,
     "metadata": {},
     "output_type": "execute_result"
    },
    {
     "data": {
      "image/png": "[encoded data removed]",
      "text/plain": [
       "<Figure size 640x480 with 1 Axes>"
      ]
     },
     "metadata": {},
     "output_type": "display_data"
    }
   ],
   "source": [
    "toy_traj.plot()"
   ]
  },
  {
   "cell_type": "code",
   "execution_count": 15,
   "metadata": {},
   "outputs": [
    {
     "data": {
      "text/html": [
       "<div>\n",
       "<style scoped>\n",
       "    .dataframe tbody tr th:only-of-type {\n",
       "        vertical-align: middle;\n",
       "    }\n",
       "\n",
       "    .dataframe tbody tr th {\n",
       "        vertical-align: top;\n",
       "    }\n",
       "\n",
       "    .dataframe thead th {\n",
       "        text-align: right;\n",
       "    }\n",
       "</style>\n",
       "<table border=\"1\" class=\"dataframe\">\n",
       "  <thead>\n",
       "    <tr style=\"text-align: right;\">\n",
       "      <th></th>\n",
       "      <th>X</th>\n",
       "      <th>Y</th>\n",
       "      <th>fid</th>\n",
       "      <th>id</th>\n",
       "      <th>sequence</th>\n",
       "      <th>trajectory_id</th>\n",
       "      <th>tracker</th>\n",
       "      <th>t</th>\n",
       "    </tr>\n",
       "  </thead>\n",
       "  <tbody>\n",
       "    <tr>\n",
       "      <th>0</th>\n",
       "      <td>116.391305</td>\n",
       "      <td>39.898573</td>\n",
       "      <td>1</td>\n",
       "      <td>1</td>\n",
       "      <td>1</td>\n",
       "      <td>1</td>\n",
       "      <td>19</td>\n",
       "      <td>2008-12-11 04:42:14+00</td>\n",
       "    </tr>\n",
       "    <tr>\n",
       "      <th>1</th>\n",
       "      <td>116.391317</td>\n",
       "      <td>39.898617</td>\n",
       "      <td>2</td>\n",
       "      <td>2</td>\n",
       "      <td>2</td>\n",
       "      <td>1</td>\n",
       "      <td>19</td>\n",
       "      <td>2008-12-11 04:42:16+00</td>\n",
       "    </tr>\n",
       "    <tr>\n",
       "      <th>2</th>\n",
       "      <td>116.390928</td>\n",
       "      <td>39.898613</td>\n",
       "      <td>3</td>\n",
       "      <td>3</td>\n",
       "      <td>3</td>\n",
       "      <td>1</td>\n",
       "      <td>19</td>\n",
       "      <td>2008-12-11 04:43:26+00</td>\n",
       "    </tr>\n",
       "    <tr>\n",
       "      <th>3</th>\n",
       "      <td>116.390833</td>\n",
       "      <td>39.898635</td>\n",
       "      <td>4</td>\n",
       "      <td>4</td>\n",
       "      <td>4</td>\n",
       "      <td>1</td>\n",
       "      <td>19</td>\n",
       "      <td>2008-12-11 04:43:32+00</td>\n",
       "    </tr>\n",
       "    <tr>\n",
       "      <th>4</th>\n",
       "      <td>116.389410</td>\n",
       "      <td>39.898723</td>\n",
       "      <td>5</td>\n",
       "      <td>5</td>\n",
       "      <td>5</td>\n",
       "      <td>1</td>\n",
       "      <td>19</td>\n",
       "      <td>2008-12-11 04:43:47+00</td>\n",
       "    </tr>\n",
       "  </tbody>\n",
       "</table>\n",
       "</div>"
      ],
      "text/plain": [
       "            X          Y  fid  id  sequence  trajectory_id  tracker  \\\n",
       "0  116.391305  39.898573    1   1         1              1       19   \n",
       "1  116.391317  39.898617    2   2         2              1       19   \n",
       "2  116.390928  39.898613    3   3         3              1       19   \n",
       "3  116.390833  39.898635    4   4         4              1       19   \n",
       "4  116.389410  39.898723    5   5         5              1       19   \n",
       "\n",
       "                        t  \n",
       "0  2008-12-11 04:42:14+00  \n",
       "1  2008-12-11 04:42:16+00  \n",
       "2  2008-12-11 04:43:26+00  \n",
       "3  2008-12-11 04:43:32+00  \n",
       "4  2008-12-11 04:43:47+00  "
      ]
     },
     "execution_count": 15,
     "metadata": {},
     "output_type": "execute_result"
    }
   ],
   "source": [
    "df = pd.read_csv('C:/NewLaptopChenInfo/StonyBrookUniversityInfo/Courses/Fall2024/Data set/MovingPandas/geolife_small.csv', delimiter=';')\n",
    "df.head()"
   ]
  },
  {
   "cell_type": "code",
   "execution_count": 17,
   "metadata": {},
   "outputs": [
    {
     "name": "stdout",
     "output_type": "stream",
     "text": [
      "TrajectoryCollection with 5 trajectories\n"
     ]
    }
   ],
   "source": [
    "traj_collection = mpd.TrajectoryCollection(df,'trajectory_id',t='t',x='X',y='Y')\n",
    "print(traj_collection)"
   ]
  },
  {
   "cell_type": "code",
   "execution_count": 18,
   "metadata": {},
   "outputs": [
    {
     "data": {
      "text/plain": [
       "<Axes: >"
      ]
     },
     "execution_count": 18,
     "metadata": {},
     "output_type": "execute_result"
    },
    {
     "data": {
      "image/png": "[encoded data removed]",
      "text/plain": [
       "<Figure size 900x500 with 2 Axes>"
      ]
     },
     "metadata": {},
     "output_type": "display_data"
    }
   ],
   "source": [
    "traj_collection.plot(column='trajectory_id', legend=True, figsize=(9,5))"
   ]
  },
  {
   "cell_type": "markdown",
   "metadata": {},
   "source": [
    "Moving panda has add_speed, add_distance, add_timedelta, add_timedelta"
   ]
  }
 ],
 "metadata": {
  "kernelspec": {
   "display_name": "Python 3",
   "language": "python",
   "name": "python3"
  },
  "language_info": {
   "codemirror_mode": {
    "name": "ipython",
    "version": 3
   },
   "file_extension": ".py",
   "mimetype": "text/x-python",
   "name": "python",
   "nbconvert_exporter": "python",
   "pygments_lexer": "ipython3",
   "version": "3.11.9"
  }
 },
 "nbformat": 4,
 "nbformat_minor": 2
}
