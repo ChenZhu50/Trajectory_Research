{
 "cells": [
  {
   "cell_type": "code",
   "execution_count": 1,
   "metadata": {},
   "outputs": [],
   "source": [
    "import warnings\n",
    "warnings.filterwarnings(\"ignore\")"
   ]
  },
  {
   "cell_type": "code",
   "execution_count": 2,
   "metadata": {},
   "outputs": [],
   "source": [
    "import movingpandas as mpd"
   ]
  },
  {
   "cell_type": "code",
   "execution_count": 3,
   "metadata": {},
   "outputs": [
    {
     "name": "stdout",
     "output_type": "stream",
     "text": [
      "\n",
      "MovingPandas 0.19.0\n",
      "\n",
      "SYSTEM INFO\n",
      "-----------\n",
      "python     : 3.11.9 (tags/v3.11.9:de54cf5, Apr  2 2024, 10:12:12) [MSC v.1938 64 bit (AMD64)]\n",
      "executable : C:\\Users\\zhuch\\AppData\\Local\\Microsoft\\WindowsApps\\PythonSoftwareFoundation.Python.3.11_qbz5n2kfra8p0\\python.exe\n",
      "machine    : Windows-10-10.0.22631-SP0\n",
      "\n",
      "GEOS, GDAL, PROJ INFO\n",
      "---------------------\n",
      "GEOS       : None\n",
      "GEOS lib   : None\n",
      "GDAL       : 3.9.1\n",
      "GDAL data dir: C:\\Users\\zhuch\\AppData\\Local\\Packages\\PythonSoftwareFoundation.Python.3.11_qbz5n2kfra8p0\\LocalCache\\local-packages\\Python311\\site-packages\\fiona\\gdal_data\n",
      "PROJ       : 9.3.0\n",
      "PROJ data dir: C:\\Users\\zhuch\\AppData\\Local\\Packages\\PythonSoftwareFoundation.Python.3.11_qbz5n2kfra8p0\\LocalCache\\local-packages\\Python311\\site-packages\\pyproj\\proj_dir\\share\\proj\n",
      "\n",
      "PYTHON DEPENDENCIES\n",
      "-------------------\n",
      "geopandas  : 1.0.1\n",
      "pandas     : 2.2.2\n",
      "fiona      : 1.10.0\n",
      "numpy      : 2.0.0\n",
      "shapely    : 2.0.6\n",
      "pyproj     : 3.6.1\n",
      "matplotlib : 3.9.2\n",
      "mapclassify: None\n",
      "geopy      : 2.4.1\n",
      "holoviews  : 1.19.1\n",
      "hvplot     : 0.10.0\n",
      "geoviews   : 1.12.0\n",
      "stonesoup  : None\n"
     ]
    }
   ],
   "source": [
    "mpd.show_versions()"
   ]
  },
  {
   "cell_type": "markdown",
   "metadata": {},
   "source": [
    "Import packages"
   ]
  },
  {
   "cell_type": "code",
   "execution_count": 4,
   "metadata": {},
   "outputs": [],
   "source": [
    "import pandas as pd\n",
    "import geopandas as gpd\n",
    "import shapely as shp\n",
    "\n",
    "from geopandas import GeoDataFrame, read_file\n",
    "from shapely.geometry import Point,LineString, Polygon\n",
    "from datetime import datetime, timedelta\n"
   ]
  },
  {
   "cell_type": "markdown",
   "metadata": {},
   "source": [
    "This is Trajectory object in movingPandas\n",
    "\n",
    "class Trajectory:\n",
    "    def __init__( \n",
    "        self,\n",
    "        df,\n",
    "        traj_id,\n",
    "        obj_id=None,\n",
    "        t=None,\n",
    "        x=None,\n",
    "        y=None,\n",
    "        crs=\"epsg:4326\",\n",
    "        parent=None,\n",
    "    ):"
   ]
  }
 ],
 "metadata": {
  "kernelspec": {
   "display_name": "Python 3",
   "language": "python",
   "name": "python3"
  },
  "language_info": {
   "codemirror_mode": {
    "name": "ipython",
    "version": 3
   },
   "file_extension": ".py",
   "mimetype": "text/x-python",
   "name": "python",
   "nbconvert_exporter": "python",
   "pygments_lexer": "ipython3",
   "version": "3.11.9"
  }
 },
 "nbformat": 4,
 "nbformat_minor": 2
}
